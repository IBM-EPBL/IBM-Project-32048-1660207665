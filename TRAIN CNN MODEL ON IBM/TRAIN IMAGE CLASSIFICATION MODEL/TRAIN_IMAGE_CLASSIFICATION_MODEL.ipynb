{
  "cells": [
    {
      "cell_type": "code",
      "execution_count": 8,
      "metadata": {
        "colab": {
          "base_uri": "https://localhost:8080/"
        },
        "id": "IwwG5YbuuMme",
        "outputId": "69755892-f5d9-4d80-ac9a-a0465cbb239c"
      },
      "outputs": [
        {
          "output_type": "stream",
          "name": "stdout",
          "text": [
            "Mounted at /content/drive\n"
          ]
        }
      ],
      "source": [
        "from google.colab import drive\n",
        "drive.mount('/content/drive')"
      ]
    },
    {
      "cell_type": "code",
      "execution_count": 9,
      "metadata": {
        "colab": {
          "base_uri": "https://localhost:8080/"
        },
        "id": "tSuZcTCEuiOB",
        "outputId": "12e30173-1685-4a47-b168-da3dc33a2232"
      },
      "outputs": [
        {
          "output_type": "stream",
          "name": "stdout",
          "text": [
            "Archive:  /content/drive/MyDrive/DATASET1.zip\n",
            "   creating: DATASET/TEST_SET/\n",
            "   creating: DATASET/TEST_SET/FOREST WITH FIRE/\n",
            "  inflating: DATASET/TEST_SET/FOREST WITH FIRE/180802_CarrFire_010_large_700x467.jpg  \n",
            "  inflating: DATASET/TEST_SET/FOREST WITH FIRE/19464620_401.jpg  \n",
            "  inflating: DATASET/TEST_SET/FOREST WITH FIRE/599857.jpg  \n",
            "  inflating: DATASET/TEST_SET/FOREST WITH FIRE/b2683a16be44f230a90f50bb944315e994b43042e43df798bb4feaf27e0f8bc8.jpg  \n",
            "  inflating: DATASET/TEST_SET/FOREST WITH FIRE/Bandipur_fires_2019.jpg  \n",
            "  inflating: DATASET/TEST_SET/FOREST WITH FIRE/climate_change_forest_fire.jpeg  \n",
            "  inflating: DATASET/TEST_SET/FOREST WITH FIRE/cumming_forest_fires.jpg  \n",
            "  inflating: DATASET/TEST_SET/FOREST WITH FIRE/deerfire_high_res_edit.jpg  \n",
            "  inflating: DATASET/TEST_SET/FOREST WITH FIRE/defense_large.jpg  \n",
            "  inflating: DATASET/TEST_SET/FOREST WITH FIRE/f90_fire_1168x657.jpg  \n",
            "  inflating: DATASET/TEST_SET/FOREST WITH FIRE/file_20190308_155532_1nvts27.jpg  \n",
            "  inflating: DATASET/TEST_SET/FOREST WITH FIRE/Fire_2_696x392.jpg  \n",
            "  inflating: DATASET/TEST_SET/FOREST WITH FIRE/Forest_Fire (3).jpg  \n",
            "  inflating: DATASET/TEST_SET/FOREST WITH FIRE/Forest_Fire (4).jpg  \n",
            "  inflating: DATASET/TEST_SET/FOREST WITH FIRE/forest_fire_0.jpg  \n",
            "  inflating: DATASET/TEST_SET/FOREST WITH FIRE/forest_fire_2268729_1280.jpg  \n",
            "  inflating: DATASET/TEST_SET/FOREST WITH FIRE/forest_fire_at_bandipur_tiger_reserve_04f0dd5e_3919_11e9_9798_f85edb62de22.jpg  \n",
            "  inflating: DATASET/TEST_SET/FOREST WITH FIRE/Forest_fire_MNRF_esize_IMG_6743.jpg  \n",
            "  inflating: DATASET/TEST_SET/FOREST WITH FIRE/FORESTFIRE (1).jpg  \n",
            "  inflating: DATASET/TEST_SET/FOREST WITH FIRE/forestfire.jpg  \n",
            "  inflating: DATASET/TEST_SET/FOREST WITH FIRE/forestfire_kApH__621x414_LiveMint.jpg  \n",
            "  inflating: DATASET/TEST_SET/FOREST WITH FIRE/GettyImages_482867948.0.jpg  \n",
            "  inflating: DATASET/TEST_SET/FOREST WITH FIRE/GettyImages_862092472_1160x773.jpg  \n",
            "  inflating: DATASET/TEST_SET/FOREST WITH FIRE/growing_risk_future_wildfires_adobestock_199370851.jpeg  \n",
            "  inflating: DATASET/TEST_SET/FOREST WITH FIRE/header_hypermaritime_fire.jpg  \n",
            "  inflating: DATASET/TEST_SET/FOREST WITH FIRE/horseshoe_bay_fire.jpg  \n",
            "  inflating: DATASET/TEST_SET/FOREST WITH FIRE/How_to_Protect_Your_Home_From_Forest_Fire_1024x588.jpg  \n",
            "  inflating: DATASET/TEST_SET/FOREST WITH FIRE/image.jpg  \n",
            "  inflating: DATASET/TEST_SET/FOREST WITH FIRE/in_forestfire1_(1).jpg  \n",
            "  inflating: DATASET/TEST_SET/FOREST WITH FIRE/in_forestfires_shutter.jpg  \n",
            "  inflating: DATASET/TEST_SET/FOREST WITH FIRE/in_forestfiress_(1).jpg  \n",
            "  inflating: DATASET/TEST_SET/FOREST WITH FIRE/korea_forest_fire_4.jpg  \n",
            "  inflating: DATASET/TEST_SET/FOREST WITH FIRE/louisiana_forest_fire.jpg  \n",
            "  inflating: DATASET/TEST_SET/FOREST WITH FIRE/maxresdefault.jpg  \n",
            "  inflating: DATASET/TEST_SET/FOREST WITH FIRE/photo_1555842027_660d9d8df55b.jpg  \n",
            "  inflating: DATASET/TEST_SET/FOREST WITH FIRE/RED7_May29_1986.jpg  \n",
            "  inflating: DATASET/TEST_SET/FOREST WITH FIRE/ring_of_fire_bailey_colorado_rocky_mountain_forest_wildfire_picture_id157384116.jpg  \n",
            "  inflating: DATASET/TEST_SET/FOREST WITH FIRE/rsz_1fire_pix_accumulation_640_1_2.jpg  \n",
            "  inflating: DATASET/TEST_SET/FOREST WITH FIRE/shutterstock_48032821.jpg  \n",
            "  inflating: DATASET/TEST_SET/FOREST WITH FIRE/shutterstock_710588224.jpg  \n",
            "  inflating: DATASET/TEST_SET/FOREST WITH FIRE/skynews_ashdown_forest_fire_4653702.jpg  \n",
            "  inflating: DATASET/TEST_SET/FOREST WITH FIRE/The_Rim_Fire_in_the_Stanislaus_National_Forest_near_in_California_began_on_Aug._17__2013_0004.jpg  \n",
            "  inflating: DATASET/TEST_SET/FOREST WITH FIRE/Untitled_design_161_866x487.jpg  \n",
            "  inflating: DATASET/TEST_SET/FOREST WITH FIRE/Uttarakhand_forest_fire.jpeg  \n",
            "  inflating: DATASET/TEST_SET/FOREST WITH FIRE/uttarakhand_forest_fire_750x500.jpg  \n",
            "  inflating: DATASET/TEST_SET/FOREST WITH FIRE/Washington_DNR_Chiwaukum_WildFires_2014_2015_WA_DNR_cropped.jpg  \n",
            "  inflating: DATASET/TEST_SET/FOREST WITH FIRE/Wild_fires.jpg  \n",
            "  inflating: DATASET/TEST_SET/FOREST WITH FIRE/wildfire_header_image_1024x1024.jpg  \n",
            "  inflating: DATASET/TEST_SET/FOREST WITH FIRE/X80IR0GYSsG6RaiLcsXX.jpg  \n",
            "   creating: DATASET/TEST_SET/FOREST WITHOUT FIRE/\n",
            "  inflating: DATASET/TEST_SET/FOREST WITHOUT FIRE/_101542074_gettyimages_956391468.jpg  \n",
            "  inflating: DATASET/TEST_SET/FOREST WITHOUT FIRE/0.48007200_1530881924_final_forest.jpg  \n",
            "  inflating: DATASET/TEST_SET/FOREST WITHOUT FIRE/0.64133000_1519374442_forest_deep.jpg  \n",
            "  inflating: DATASET/TEST_SET/FOREST WITHOUT FIRE/0.72918000_1559733279_forests1_gettyimages_.jpg  \n",
            "  inflating: DATASET/TEST_SET/FOREST WITHOUT FIRE/0.98884800_1554454572_spin.jpg  \n",
            "  inflating: DATASET/TEST_SET/FOREST WITHOUT FIRE/01_NeilBurnell_Mystical_photoverticall.jpg  \n",
            "  inflating: DATASET/TEST_SET/FOREST WITHOUT FIRE/091318_LH_forest_loss_main_FREE.jpg  \n",
            "  inflating: DATASET/TEST_SET/FOREST WITHOUT FIRE/1_chimp.jpg  \n",
            "  inflating: DATASET/TEST_SET/FOREST WITHOUT FIRE/1009821.jpg  \n",
            "  inflating: DATASET/TEST_SET/FOREST WITHOUT FIRE/111188170_river_in_the_mountain_forest.jpg  \n",
            "  inflating: DATASET/TEST_SET/FOREST WITHOUT FIRE/1170x500_Ireland_web.jpg  \n",
            "  inflating: DATASET/TEST_SET/FOREST WITHOUT FIRE/1200px_Mountainarea.jpg  \n",
            "  inflating: DATASET/TEST_SET/FOREST WITHOUT FIRE/146019.jpg  \n",
            "  inflating: DATASET/TEST_SET/FOREST WITHOUT FIRE/1506697583544.jpg  \n",
            "  inflating: DATASET/TEST_SET/FOREST WITHOUT FIRE/1551622076_img_5241.jpg  \n",
            "  inflating: DATASET/TEST_SET/FOREST WITHOUT FIRE/1551903255_2942.jpg  \n",
            "  inflating: DATASET/TEST_SET/FOREST WITHOUT FIRE/1556508284pexels_photo_1179229.jpeg  \n",
            "  inflating: DATASET/TEST_SET/FOREST WITHOUT FIRE/16475617_web1_ForestHealth_VIB_190418_2.jpg  \n",
            "  inflating: DATASET/TEST_SET/FOREST WITHOUT FIRE/18435324436_6a20e7fc70_k.jpg  \n",
            "  inflating: DATASET/TEST_SET/FOREST WITHOUT FIRE/200px_View_of_Lake_Moraine.jpg  \n",
            "  inflating: DATASET/TEST_SET/FOREST WITHOUT FIRE/2017_10_12_09_01_56.jpg  \n",
            "  inflating: DATASET/TEST_SET/FOREST WITHOUT FIRE/220px_The_forest_near_Blatets__Vinitsa.jfif  \n",
            "  inflating: DATASET/TEST_SET/FOREST WITHOUT FIRE/23769_pcbkrdossw_1500310327.jpg  \n",
            "  inflating: DATASET/TEST_SET/FOREST WITHOUT FIRE/2E215059_55C7_417B_8DDD693AA6E416B4_source.jpg  \n",
            "  inflating: DATASET/TEST_SET/FOREST WITHOUT FIRE/31105585103_4c32392ac1_k.jpg  \n",
            "  inflating: DATASET/TEST_SET/FOREST WITHOUT FIRE/381417.jpg  \n",
            "  inflating: DATASET/TEST_SET/FOREST WITHOUT FIRE/4632581118_dcfb9ed978_b.jpg.860x0_q70_crop_scale.jpg  \n",
            "  inflating: DATASET/TEST_SET/FOREST WITHOUT FIRE/4fe3f4e45d6bb93070989b8bbb77d30e.jpg  \n",
            "  inflating: DATASET/TEST_SET/FOREST WITHOUT FIRE/4k_timelapse_heavy_rain_on_mountain_forest_tree_fog_motion_bad_weather_condition_rfift1zh_thumbnail_.png  \n",
            "  inflating: DATASET/TEST_SET/FOREST WITHOUT FIRE/5325.jpg  \n",
            "  inflating: DATASET/TEST_SET/FOREST WITHOUT FIRE/5472.jpg  \n",
            "  inflating: DATASET/TEST_SET/FOREST WITHOUT FIRE/559672101517195076987621071193712n.jpg  \n",
            "  inflating: DATASET/TEST_SET/FOREST WITHOUT FIRE/7_18_MedicineBowHikingFishing_KL_1319_4003.jpg  \n",
            "  inflating: DATASET/TEST_SET/FOREST WITHOUT FIRE/78closer_exterior_view_of_northern_Rocky_Mountain_forest.jpg  \n",
            "  inflating: DATASET/TEST_SET/FOREST WITHOUT FIRE/79806645_landscape_of_tall_grass_field_green_mountain_forest.jpg  \n",
            "  inflating: DATASET/TEST_SET/FOREST WITHOUT FIRE/7ece9530_9cf1_11e9_bf3c_4fe6e6438142.jpg  \n",
            "  inflating: DATASET/TEST_SET/FOREST WITHOUT FIRE/852554.jpg  \n",
            "  inflating: DATASET/TEST_SET/FOREST WITHOUT FIRE/91ErlodmE5L.jpg  \n",
            "  inflating: DATASET/TEST_SET/FOREST WITHOUT FIRE/91sALlLjdLL.jpg  \n",
            "  inflating: DATASET/TEST_SET/FOREST WITHOUT FIRE/a.jpg  \n",
            "  inflating: DATASET/TEST_SET/FOREST WITHOUT FIRE/A003_C014_0724EC.0000000.jpg  \n",
            "  inflating: DATASET/TEST_SET/FOREST WITHOUT FIRE/acadia_np_622419_High_Res.jpg  \n",
            "  inflating: DATASET/TEST_SET/FOREST WITHOUT FIRE/Adirondack_Habitats_Mixed_Forest_Barnum_Brook_Trail_Paul_Smiths_VIC_23_May_2012_61.jpg  \n",
            "  inflating: DATASET/TEST_SET/FOREST WITHOUT FIRE/Adirondack_Habitats_Mixed_Forest_Jenkins_Mountain_Trail_Paul_Smiths_VIC_12_August_2013_71.jpg  \n",
            "  inflating: DATASET/TEST_SET/FOREST WITHOUT FIRE/Almaty_Mountains.jpg  \n",
            "  inflating: DATASET/TEST_SET/FOREST WITHOUT FIRE/altai_regio_pine_forest_1550x804.jpg  \n",
            "  inflating: DATASET/TEST_SET/FOREST WITHOUT FIRE/amazing_green_trees_in_dense_mountain_forest_nature_landscape_in_4k_aerial_view_b7oqfwutg_thumbnail_.png  \n",
            "  inflating: DATASET/TEST_SET/FOREST WITHOUT FIRE/aokigaharaforest_1_star.jpg  \n",
            "  inflating: DATASET/TEST_SET/FOREST WITHOUT FIRE/appalachian_mtns_forest_usda_srs.jpg  \n",
            "  inflating: DATASET/TEST_SET/FOREST WITHOUT FIRE/austria_mountain_forest_landscape_wallpaper_1920x1200.jpg  \n",
            "  inflating: DATASET/TEST_SET/FOREST WITHOUT FIRE/bavarian_forest_3385966_1280_1.jpg  \n",
            "  inflating: DATASET/TEST_SET/FOREST WITHOUT FIRE/beautiful_green_forest_range_images_picture_photos_wallpaper_download.jpg  \n",
            "  inflating: DATASET/TEST_SET/FOREST WITHOUT FIRE/beautiful_morning_mountain_forest_scenery_free_stock_photos_picjumbo_DSC02176.jpg  \n",
            "  inflating: DATASET/TEST_SET/FOREST WITHOUT FIRE/beautiful_mountain_forest_wallpaper_1920x1200.jpg  \n",
            "  inflating: DATASET/TEST_SET/FOREST WITHOUT FIRE/beech_oak_forest_560.jpg  \n",
            "  inflating: DATASET/TEST_SET/FOREST WITHOUT FIRE/britishforest_696483208.jpg  \n",
            "  inflating: DATASET/TEST_SET/FOREST WITHOUT FIRE/canva_waterfalls_in_the_mountain_forest__MADR_l3e0W4.jpg  \n",
            "  inflating: DATASET/TEST_SET/FOREST WITHOUT FIRE/ce8b73d56bd242eb1f2369fe856f1c63_700.jpg  \n",
            "  inflating: DATASET/TEST_SET/FOREST WITHOUT FIRE/cold_daylight_environment_1423600_640x427.jpg  \n",
            "  inflating: DATASET/TEST_SET/FOREST WITHOUT FIRE/Deciduous_forest.jpg  \n",
            "  inflating: DATASET/TEST_SET/FOREST WITHOUT FIRE/DSC_0072_Forest.jpg  \n",
            "  inflating: DATASET/TEST_SET/FOREST WITHOUT FIRE/DSCN8209(1)_250x333.jfif  \n",
            "  inflating: DATASET/TEST_SET/FOREST WITHOUT FIRE/Dupont_Forest_Triple_Falls_Rob_Travis_2_1.jpg  \n",
            "  inflating: DATASET/TEST_SET/FOREST WITHOUT FIRE/easternArc.jpg  \n",
            "  inflating: DATASET/TEST_SET/FOREST WITHOUT FIRE/em_tiger_mountain_570x284_nc.jpg  \n",
            "  inflating: DATASET/TEST_SET/FOREST WITHOUT FIRE/europeslostf.jpg  \n",
            "  inflating: DATASET/TEST_SET/FOREST WITHOUT FIRE/Fall_Trees_Alaskan_Adventure_by_John_Simeone.jpg  \n",
            "  inflating: DATASET/TEST_SET/FOREST WITHOUT FIRE/Fallen_e1499694482182.jpg  \n",
            "  inflating: DATASET/TEST_SET/FOREST WITHOUT FIRE/fanas_gregorschmucki_2016_28_1_2600x1733.jpg  \n",
            "  inflating: DATASET/TEST_SET/FOREST WITHOUT FIRE/fantastic_dark_landscape_of_mountain_forest_in_clouds_fog_or_mist_picture_id688948674.jpg  \n",
            "  inflating: DATASET/TEST_SET/FOREST WITHOUT FIRE/fb26e4420f3ae3b12788fffdea0fb132_full.jpg  \n",
            "  inflating: DATASET/TEST_SET/FOREST WITHOUT FIRE/file_20180627_112634_8tdgn4.jpg  \n",
            "   creating: DATASET/TRAIN_SET/\n",
            "   creating: DATASET/TRAIN_SET/forest/\n",
            "   creating: DATASET/TRAIN_SET/forest/folder 1/\n",
            "  inflating: DATASET/TRAIN_SET/forest/folder 1/with_fire (1).gif  \n",
            "  inflating: DATASET/TRAIN_SET/forest/folder 1/with_fire (1).jpeg  \n",
            "  inflating: DATASET/TRAIN_SET/forest/folder 1/with_fire (1).jpg  \n",
            "  inflating: DATASET/TRAIN_SET/forest/folder 1/with_fire (1).png  \n",
            "  inflating: DATASET/TRAIN_SET/forest/folder 1/with_fire (10).jpeg  \n",
            "  inflating: DATASET/TRAIN_SET/forest/folder 1/with_fire (10).jpg  \n",
            "  inflating: DATASET/TRAIN_SET/forest/folder 1/with_fire (11).jpg  \n",
            "  inflating: DATASET/TRAIN_SET/forest/folder 1/with_fire (12).jpg  \n",
            "  inflating: DATASET/TRAIN_SET/forest/folder 1/with_fire (13).jpg  \n",
            "  inflating: DATASET/TRAIN_SET/forest/folder 1/with_fire (14).jpg  \n",
            "  inflating: DATASET/TRAIN_SET/forest/folder 1/with_fire (15).jpg  \n",
            "  inflating: DATASET/TRAIN_SET/forest/folder 1/with_fire (16).jpg  \n",
            "  inflating: DATASET/TRAIN_SET/forest/folder 1/with_fire (17).jpg  \n",
            "  inflating: DATASET/TRAIN_SET/forest/folder 1/with_fire (18).jpg  \n",
            "  inflating: DATASET/TRAIN_SET/forest/folder 1/with_fire (19).jpg  \n",
            "  inflating: DATASET/TRAIN_SET/forest/folder 1/with_fire (2).jpeg  \n",
            "  inflating: DATASET/TRAIN_SET/forest/folder 1/with_fire (2).jpg  \n",
            "  inflating: DATASET/TRAIN_SET/forest/folder 1/with_fire (2).png  \n",
            "  inflating: DATASET/TRAIN_SET/forest/folder 1/with_fire (20).jpg  \n",
            "  inflating: DATASET/TRAIN_SET/forest/folder 1/with_fire (21).jpg  \n",
            "  inflating: DATASET/TRAIN_SET/forest/folder 1/with_fire (22).jpg  \n",
            "  inflating: DATASET/TRAIN_SET/forest/folder 1/with_fire (23).jpg  \n",
            "  inflating: DATASET/TRAIN_SET/forest/folder 1/with_fire (24).jpg  \n",
            "  inflating: DATASET/TRAIN_SET/forest/folder 1/with_fire (25).jpg  \n",
            "  inflating: DATASET/TRAIN_SET/forest/folder 1/with_fire (26).jpg  \n",
            "  inflating: DATASET/TRAIN_SET/forest/folder 1/with_fire (27).jpg  \n",
            "  inflating: DATASET/TRAIN_SET/forest/folder 1/with_fire (28).jpg  \n",
            "  inflating: DATASET/TRAIN_SET/forest/folder 1/with_fire (29).jpg  \n",
            "  inflating: DATASET/TRAIN_SET/forest/folder 1/with_fire (3).jpeg  \n",
            "  inflating: DATASET/TRAIN_SET/forest/folder 1/with_fire (3).jpg  \n",
            "  inflating: DATASET/TRAIN_SET/forest/folder 1/with_fire (3).png  \n",
            "  inflating: DATASET/TRAIN_SET/forest/folder 1/with_fire (30).jpg  \n",
            "  inflating: DATASET/TRAIN_SET/forest/folder 1/with_fire (31).jpg  \n",
            "  inflating: DATASET/TRAIN_SET/forest/folder 1/with_fire (32).jpg  \n",
            "  inflating: DATASET/TRAIN_SET/forest/folder 1/with_fire (33).jpg  \n",
            "  inflating: DATASET/TRAIN_SET/forest/folder 1/with_fire (34).jpg  \n",
            "  inflating: DATASET/TRAIN_SET/forest/folder 1/with_fire (35).jpg  \n",
            "  inflating: DATASET/TRAIN_SET/forest/folder 1/with_fire (36).jpg  \n",
            "  inflating: DATASET/TRAIN_SET/forest/folder 1/with_fire (37).jpg  \n",
            "  inflating: DATASET/TRAIN_SET/forest/folder 1/with_fire (38).jpg  \n",
            "  inflating: DATASET/TRAIN_SET/forest/folder 1/with_fire (39).jpg  \n",
            "  inflating: DATASET/TRAIN_SET/forest/folder 1/with_fire (4).jpeg  \n",
            "  inflating: DATASET/TRAIN_SET/forest/folder 1/with_fire (4).jpg  \n",
            "  inflating: DATASET/TRAIN_SET/forest/folder 1/with_fire (4).png  \n",
            "  inflating: DATASET/TRAIN_SET/forest/folder 1/with_fire (40).jpg  \n",
            "  inflating: DATASET/TRAIN_SET/forest/folder 1/with_fire (41).jpg  \n",
            "  inflating: DATASET/TRAIN_SET/forest/folder 1/with_fire (42).jpg  \n",
            "  inflating: DATASET/TRAIN_SET/forest/folder 1/with_fire (43).jpg  \n",
            "  inflating: DATASET/TRAIN_SET/forest/folder 1/with_fire (44).jpg  \n",
            "  inflating: DATASET/TRAIN_SET/forest/folder 1/with_fire (45).jpg  \n",
            "  inflating: DATASET/TRAIN_SET/forest/folder 1/with_fire (46).jpg  \n",
            "  inflating: DATASET/TRAIN_SET/forest/folder 1/with_fire (47).jpg  \n",
            "  inflating: DATASET/TRAIN_SET/forest/folder 1/with_fire (48).jpg  \n",
            "  inflating: DATASET/TRAIN_SET/forest/folder 1/with_fire (49).jpg  \n",
            "  inflating: DATASET/TRAIN_SET/forest/folder 1/with_fire (5).jpeg  \n",
            "  inflating: DATASET/TRAIN_SET/forest/folder 1/with_fire (5).jpg  \n",
            "  inflating: DATASET/TRAIN_SET/forest/folder 1/with_fire (5).png  \n",
            "  inflating: DATASET/TRAIN_SET/forest/folder 1/with_fire (50).jpg  \n",
            "  inflating: DATASET/TRAIN_SET/forest/folder 1/with_fire (51).jpg  \n",
            "  inflating: DATASET/TRAIN_SET/forest/folder 1/with_fire (52).jpg  \n",
            "  inflating: DATASET/TRAIN_SET/forest/folder 1/with_fire (53).jpg  \n",
            "  inflating: DATASET/TRAIN_SET/forest/folder 1/with_fire (54).jpg  \n",
            "  inflating: DATASET/TRAIN_SET/forest/folder 1/with_fire (55).jpg  \n",
            "  inflating: DATASET/TRAIN_SET/forest/folder 1/with_fire (56).jpg  \n",
            "  inflating: DATASET/TRAIN_SET/forest/folder 1/with_fire (57).jpg  \n",
            "  inflating: DATASET/TRAIN_SET/forest/folder 1/with_fire (58).jpg  \n",
            "  inflating: DATASET/TRAIN_SET/forest/folder 1/with_fire (59).bmp  \n",
            "  inflating: DATASET/TRAIN_SET/forest/folder 1/with_fire (59).jpg  \n",
            "  inflating: DATASET/TRAIN_SET/forest/folder 1/with_fire (6).jpeg  \n",
            "  inflating: DATASET/TRAIN_SET/forest/folder 1/with_fire (6).jpg  \n",
            "  inflating: DATASET/TRAIN_SET/forest/folder 1/with_fire (6).png  \n",
            "  inflating: DATASET/TRAIN_SET/forest/folder 1/with_fire (60).jpg  \n",
            "  inflating: DATASET/TRAIN_SET/forest/folder 1/with_fire (61).jpg  \n",
            "  inflating: DATASET/TRAIN_SET/forest/folder 1/with_fire (62).jpg  \n",
            "  inflating: DATASET/TRAIN_SET/forest/folder 1/with_fire (63).jpg  \n",
            "  inflating: DATASET/TRAIN_SET/forest/folder 1/with_fire (64).jpg  \n",
            "  inflating: DATASET/TRAIN_SET/forest/folder 1/with_fire (65).jpg  \n",
            "  inflating: DATASET/TRAIN_SET/forest/folder 1/with_fire (66).jpg  \n",
            "  inflating: DATASET/TRAIN_SET/forest/folder 1/with_fire (67).jpg  \n",
            "  inflating: DATASET/TRAIN_SET/forest/folder 1/with_fire (68).jpg  \n",
            "  inflating: DATASET/TRAIN_SET/forest/folder 1/with_fire (69).jpg  \n",
            "  inflating: DATASET/TRAIN_SET/forest/folder 1/with_fire (7).jpeg  \n",
            "  inflating: DATASET/TRAIN_SET/forest/folder 1/with_fire (7).jpg  \n",
            "  inflating: DATASET/TRAIN_SET/forest/folder 1/with_fire (7).png  \n",
            "  inflating: DATASET/TRAIN_SET/forest/folder 1/with_fire (70).jpg  \n",
            "  inflating: DATASET/TRAIN_SET/forest/folder 1/with_fire (71).jpg  \n",
            "  inflating: DATASET/TRAIN_SET/forest/folder 1/with_fire (72).jpg  \n",
            "  inflating: DATASET/TRAIN_SET/forest/folder 1/with_fire (73).jpg  \n",
            "  inflating: DATASET/TRAIN_SET/forest/folder 1/with_fire (74).jpg  \n",
            "  inflating: DATASET/TRAIN_SET/forest/folder 1/with_fire (75).jpg  \n",
            "  inflating: DATASET/TRAIN_SET/forest/folder 1/with_fire (8).jpeg  \n",
            "  inflating: DATASET/TRAIN_SET/forest/folder 1/with_fire (8).jpg  \n",
            "  inflating: DATASET/TRAIN_SET/forest/folder 1/with_fire (8).png  \n",
            "  inflating: DATASET/TRAIN_SET/forest/folder 1/with_fire (9).jpeg  \n",
            "  inflating: DATASET/TRAIN_SET/forest/folder 1/with_fire (9).jpg  \n",
            "  inflating: DATASET/TRAIN_SET/forest/folder 1/with_fire (9).png  \n",
            "   creating: DATASET/TRAIN_SET/forest/folder 2/\n",
            "  inflating: DATASET/TRAIN_SET/forest/folder 2/with_fire (100).jpg  \n",
            "  inflating: DATASET/TRAIN_SET/forest/folder 2/with_fire (101).jpg  \n",
            "  inflating: DATASET/TRAIN_SET/forest/folder 2/with_fire (102).jpg  \n",
            "  inflating: DATASET/TRAIN_SET/forest/folder 2/with_fire (103).jpg  \n",
            "  inflating: DATASET/TRAIN_SET/forest/folder 2/with_fire (104).jpg  \n",
            "  inflating: DATASET/TRAIN_SET/forest/folder 2/with_fire (105).jpg  \n",
            "  inflating: DATASET/TRAIN_SET/forest/folder 2/with_fire (106).jpg  \n",
            "  inflating: DATASET/TRAIN_SET/forest/folder 2/with_fire (107).jpg  \n",
            "  inflating: DATASET/TRAIN_SET/forest/folder 2/with_fire (108).jpg  \n",
            "  inflating: DATASET/TRAIN_SET/forest/folder 2/with_fire (109).jpg  \n",
            "  inflating: DATASET/TRAIN_SET/forest/folder 2/with_fire (110).jpg  \n",
            "  inflating: DATASET/TRAIN_SET/forest/folder 2/with_fire (111).jpg  \n",
            "  inflating: DATASET/TRAIN_SET/forest/folder 2/with_fire (112).jpg  \n",
            "  inflating: DATASET/TRAIN_SET/forest/folder 2/with_fire (113).jpg  \n",
            "  inflating: DATASET/TRAIN_SET/forest/folder 2/with_fire (114).jpg  \n",
            "  inflating: DATASET/TRAIN_SET/forest/folder 2/with_fire (115).jpg  \n",
            "  inflating: DATASET/TRAIN_SET/forest/folder 2/with_fire (116).jpg  \n",
            "  inflating: DATASET/TRAIN_SET/forest/folder 2/with_fire (117).jpg  \n",
            "  inflating: DATASET/TRAIN_SET/forest/folder 2/with_fire (118).jpg  \n",
            "  inflating: DATASET/TRAIN_SET/forest/folder 2/with_fire (119).jpg  \n",
            "  inflating: DATASET/TRAIN_SET/forest/folder 2/with_fire (120).jpg  \n",
            "  inflating: DATASET/TRAIN_SET/forest/folder 2/with_fire (121).jpg  \n",
            "  inflating: DATASET/TRAIN_SET/forest/folder 2/with_fire (122).jpg  \n",
            "  inflating: DATASET/TRAIN_SET/forest/folder 2/with_fire (123).jpg  \n",
            "  inflating: DATASET/TRAIN_SET/forest/folder 2/with_fire (124).jpg  \n",
            "  inflating: DATASET/TRAIN_SET/forest/folder 2/with_fire (125).jpg  \n",
            "  inflating: DATASET/TRAIN_SET/forest/folder 2/with_fire (126).jpg  \n",
            "  inflating: DATASET/TRAIN_SET/forest/folder 2/with_fire (127).jpg  \n",
            "  inflating: DATASET/TRAIN_SET/forest/folder 2/with_fire (128).jpg  \n",
            "  inflating: DATASET/TRAIN_SET/forest/folder 2/with_fire (129).jpg  \n",
            "  inflating: DATASET/TRAIN_SET/forest/folder 2/with_fire (130).jpg  \n",
            "  inflating: DATASET/TRAIN_SET/forest/folder 2/with_fire (131).jpg  \n",
            "  inflating: DATASET/TRAIN_SET/forest/folder 2/with_fire (132).jpg  \n",
            "  inflating: DATASET/TRAIN_SET/forest/folder 2/with_fire (133).jpg  \n",
            "  inflating: DATASET/TRAIN_SET/forest/folder 2/with_fire (134).jpg  \n",
            "  inflating: DATASET/TRAIN_SET/forest/folder 2/with_fire (135).jpg  \n",
            "  inflating: DATASET/TRAIN_SET/forest/folder 2/with_fire (136).jpg  \n",
            "  inflating: DATASET/TRAIN_SET/forest/folder 2/with_fire (137).jpg  \n",
            "  inflating: DATASET/TRAIN_SET/forest/folder 2/with_fire (138).jpg  \n",
            "  inflating: DATASET/TRAIN_SET/forest/folder 2/with_fire (139).jpg  \n",
            "  inflating: DATASET/TRAIN_SET/forest/folder 2/with_fire (140).jpg  \n",
            "  inflating: DATASET/TRAIN_SET/forest/folder 2/with_fire (141).jpg  \n",
            "  inflating: DATASET/TRAIN_SET/forest/folder 2/with_fire (142).jpg  \n",
            "  inflating: DATASET/TRAIN_SET/forest/folder 2/with_fire (143).jpg  \n",
            "  inflating: DATASET/TRAIN_SET/forest/folder 2/with_fire (144).jpg  \n",
            "  inflating: DATASET/TRAIN_SET/forest/folder 2/with_fire (145).jpg  \n",
            "  inflating: DATASET/TRAIN_SET/forest/folder 2/with_fire (146).jpg  \n",
            "  inflating: DATASET/TRAIN_SET/forest/folder 2/with_fire (147).jfif  \n",
            "  inflating: DATASET/TRAIN_SET/forest/folder 2/with_fire (148).jpg  \n",
            "  inflating: DATASET/TRAIN_SET/forest/folder 2/with_fire (149).jpg  \n",
            "  inflating: DATASET/TRAIN_SET/forest/folder 2/with_fire (150).jpg  \n",
            "  inflating: DATASET/TRAIN_SET/forest/folder 2/with_fire (151).jpg  \n",
            "  inflating: DATASET/TRAIN_SET/forest/folder 2/with_fire (152).jpg  \n",
            "  inflating: DATASET/TRAIN_SET/forest/folder 2/with_fire (153).jpg  \n",
            "  inflating: DATASET/TRAIN_SET/forest/folder 2/with_fire (154).jpg  \n",
            "  inflating: DATASET/TRAIN_SET/forest/folder 2/with_fire (155).jpg  \n",
            "  inflating: DATASET/TRAIN_SET/forest/folder 2/with_fire (156).jpg  \n",
            "  inflating: DATASET/TRAIN_SET/forest/folder 2/with_fire (157).jpg  \n",
            "  inflating: DATASET/TRAIN_SET/forest/folder 2/with_fire (158).jpg  \n",
            "  inflating: DATASET/TRAIN_SET/forest/folder 2/with_fire (159).jpg  \n",
            "  inflating: DATASET/TRAIN_SET/forest/folder 2/with_fire (160).jfif  \n",
            "  inflating: DATASET/TRAIN_SET/forest/folder 2/with_fire (161).jpg  \n",
            "  inflating: DATASET/TRAIN_SET/forest/folder 2/with_fire (162).jpg  \n",
            "  inflating: DATASET/TRAIN_SET/forest/folder 2/with_fire (163).jpg  \n",
            "  inflating: DATASET/TRAIN_SET/forest/folder 2/with_fire (164).jpg  \n",
            "  inflating: DATASET/TRAIN_SET/forest/folder 2/with_fire (165).jfif  \n",
            "  inflating: DATASET/TRAIN_SET/forest/folder 2/with_fire (166).jpg  \n",
            "  inflating: DATASET/TRAIN_SET/forest/folder 2/with_fire (167).jpg  \n",
            "  inflating: DATASET/TRAIN_SET/forest/folder 2/with_fire (168).jpg  \n",
            "  inflating: DATASET/TRAIN_SET/forest/folder 2/with_fire (169).jpg  \n",
            "  inflating: DATASET/TRAIN_SET/forest/folder 2/with_fire (170).jpg  \n",
            "  inflating: DATASET/TRAIN_SET/forest/folder 2/with_fire (171).jpg  \n",
            "  inflating: DATASET/TRAIN_SET/forest/folder 2/with_fire (76).jpg  \n",
            "  inflating: DATASET/TRAIN_SET/forest/folder 2/with_fire (77).jpg  \n",
            "  inflating: DATASET/TRAIN_SET/forest/folder 2/with_fire (78).jpg  \n",
            "  inflating: DATASET/TRAIN_SET/forest/folder 2/with_fire (79).jpg  \n",
            "  inflating: DATASET/TRAIN_SET/forest/folder 2/with_fire (80).jpg  \n",
            "  inflating: DATASET/TRAIN_SET/forest/folder 2/with_fire (81).jpg  \n",
            "  inflating: DATASET/TRAIN_SET/forest/folder 2/with_fire (82).jpg  \n",
            "  inflating: DATASET/TRAIN_SET/forest/folder 2/with_fire (83).jpg  \n",
            "  inflating: DATASET/TRAIN_SET/forest/folder 2/with_fire (84).jpg  \n",
            "  inflating: DATASET/TRAIN_SET/forest/folder 2/with_fire (85).jpg  \n",
            "  inflating: DATASET/TRAIN_SET/forest/folder 2/with_fire (86).jpg  \n",
            "  inflating: DATASET/TRAIN_SET/forest/folder 2/with_fire (87).jpg  \n",
            "  inflating: DATASET/TRAIN_SET/forest/folder 2/with_fire (88).jpg  \n",
            "  inflating: DATASET/TRAIN_SET/forest/folder 2/with_fire (89).jpg  \n",
            "  inflating: DATASET/TRAIN_SET/forest/folder 2/with_fire (90).jpg  \n",
            "  inflating: DATASET/TRAIN_SET/forest/folder 2/with_fire (91).jfif  \n",
            "  inflating: DATASET/TRAIN_SET/forest/folder 2/with_fire (92).jpg  \n",
            "  inflating: DATASET/TRAIN_SET/forest/folder 2/with_fire (93).jpg  \n",
            "  inflating: DATASET/TRAIN_SET/forest/folder 2/with_fire (94).jpg  \n",
            "  inflating: DATASET/TRAIN_SET/forest/folder 2/with_fire (95).jpg  \n",
            "  inflating: DATASET/TRAIN_SET/forest/folder 2/with_fire (96).jpg  \n",
            "  inflating: DATASET/TRAIN_SET/forest/folder 2/with_fire (97).jpg  \n",
            "  inflating: DATASET/TRAIN_SET/forest/folder 2/with_fire (98).jpg  \n",
            "  inflating: DATASET/TRAIN_SET/forest/folder 2/with_fire (99).jpg  \n",
            "   creating: DATASET/TRAIN_SET/forest/folder 3/\n",
            "  inflating: DATASET/TRAIN_SET/forest/folder 3/with_fire (172).jpg  \n",
            "  inflating: DATASET/TRAIN_SET/forest/folder 3/with_fire (173).jpg  \n",
            "  inflating: DATASET/TRAIN_SET/forest/folder 3/with_fire (174).jpg  \n",
            "  inflating: DATASET/TRAIN_SET/forest/folder 3/with_fire (175).jpg  \n",
            "  inflating: DATASET/TRAIN_SET/forest/folder 3/with_fire (176).jpg  \n",
            "  inflating: DATASET/TRAIN_SET/forest/folder 3/with_fire (177).jpg  \n",
            "  inflating: DATASET/TRAIN_SET/forest/folder 3/with_fire (178).jpg  \n",
            "  inflating: DATASET/TRAIN_SET/forest/folder 3/with_fire (179).jpg  \n",
            "  inflating: DATASET/TRAIN_SET/forest/folder 3/with_fire (180).jpg  \n",
            "  inflating: DATASET/TRAIN_SET/forest/folder 3/with_fire (181).jpg  \n",
            "  inflating: DATASET/TRAIN_SET/forest/folder 3/with_fire (182).jpg  \n",
            "  inflating: DATASET/TRAIN_SET/forest/folder 3/with_fire (183).jpg  \n",
            "  inflating: DATASET/TRAIN_SET/forest/folder 3/with_fire (184).jpg  \n",
            "  inflating: DATASET/TRAIN_SET/forest/folder 3/with_fire (185).jpg  \n",
            "  inflating: DATASET/TRAIN_SET/forest/folder 3/with_fire (186).jpg  \n",
            "  inflating: DATASET/TRAIN_SET/forest/folder 3/with_fire (187).jpg  \n",
            "  inflating: DATASET/TRAIN_SET/forest/folder 3/with_fire (188).jpg  \n",
            "  inflating: DATASET/TRAIN_SET/forest/folder 3/with_fire (189).jpg  \n",
            "  inflating: DATASET/TRAIN_SET/forest/folder 3/with_fire (190).jpg  \n",
            "  inflating: DATASET/TRAIN_SET/forest/folder 3/with_fire (191).jpg  \n",
            "  inflating: DATASET/TRAIN_SET/forest/folder 3/with_fire (192).jpg  \n",
            "  inflating: DATASET/TRAIN_SET/forest/folder 3/with_fire (193).jpg  \n",
            "  inflating: DATASET/TRAIN_SET/forest/folder 3/with_fire (194).jpg  \n",
            "  inflating: DATASET/TRAIN_SET/forest/folder 3/with_fire (195).jpg  \n",
            "  inflating: DATASET/TRAIN_SET/forest/folder 3/with_fire (196).jpg  \n",
            "  inflating: DATASET/TRAIN_SET/forest/folder 3/with_fire (197).jpg  \n",
            "  inflating: DATASET/TRAIN_SET/forest/folder 3/with_fire (198).jpg  \n",
            "  inflating: DATASET/TRAIN_SET/forest/folder 3/with_fire (199).jpg  \n",
            "  inflating: DATASET/TRAIN_SET/forest/folder 3/with_fire (200).jpg  \n",
            " extracting: DATASET/TRAIN_SET/forest/folder 3/with_fire (201).jpg  \n"
          ]
        }
      ],
      "source": [
        "!unzip \"/content/drive/MyDrive/DATASET1.zip\""
      ]
    },
    {
      "cell_type": "code",
      "execution_count": 11,
      "metadata": {
        "colab": {
          "base_uri": "https://localhost:8080/"
        },
        "id": "aGWQXcUgusyL",
        "outputId": "05907406-e342-4b08-d745-aa91bc5bf918"
      },
      "outputs": [
        {
          "output_type": "stream",
          "name": "stdout",
          "text": [
            "Looking in indexes: https://pypi.org/simple, https://us-python.pkg.dev/colab-wheels/public/simple/\n",
            "Requirement already satisfied: tensorflow in /usr/local/lib/python3.7/dist-packages (2.9.2)\n",
            "Requirement already satisfied: termcolor>=1.1.0 in /usr/local/lib/python3.7/dist-packages (from tensorflow) (2.1.0)\n",
            "Requirement already satisfied: opt-einsum>=2.3.2 in /usr/local/lib/python3.7/dist-packages (from tensorflow) (3.3.0)\n",
            "Requirement already satisfied: wrapt>=1.11.0 in /usr/local/lib/python3.7/dist-packages (from tensorflow) (1.14.1)\n",
            "Requirement already satisfied: h5py>=2.9.0 in /usr/local/lib/python3.7/dist-packages (from tensorflow) (3.1.0)\n",
            "Requirement already satisfied: setuptools in /usr/local/lib/python3.7/dist-packages (from tensorflow) (57.4.0)\n",
            "Requirement already satisfied: numpy>=1.20 in /usr/local/lib/python3.7/dist-packages (from tensorflow) (1.21.6)\n",
            "Requirement already satisfied: tensorboard<2.10,>=2.9 in /usr/local/lib/python3.7/dist-packages (from tensorflow) (2.9.1)\n",
            "Requirement already satisfied: keras<2.10.0,>=2.9.0rc0 in /usr/local/lib/python3.7/dist-packages (from tensorflow) (2.9.0)\n",
            "Requirement already satisfied: flatbuffers<2,>=1.12 in /usr/local/lib/python3.7/dist-packages (from tensorflow) (1.12)\n",
            "Requirement already satisfied: typing-extensions>=3.6.6 in /usr/local/lib/python3.7/dist-packages (from tensorflow) (4.1.1)\n",
            "Requirement already satisfied: six>=1.12.0 in /usr/local/lib/python3.7/dist-packages (from tensorflow) (1.15.0)\n",
            "Requirement already satisfied: libclang>=13.0.0 in /usr/local/lib/python3.7/dist-packages (from tensorflow) (14.0.6)\n",
            "Requirement already satisfied: keras-preprocessing>=1.1.1 in /usr/local/lib/python3.7/dist-packages (from tensorflow) (1.1.2)\n",
            "Requirement already satisfied: tensorflow-io-gcs-filesystem>=0.23.1 in /usr/local/lib/python3.7/dist-packages (from tensorflow) (0.27.0)\n",
            "Requirement already satisfied: packaging in /usr/local/lib/python3.7/dist-packages (from tensorflow) (21.3)\n",
            "Requirement already satisfied: google-pasta>=0.1.1 in /usr/local/lib/python3.7/dist-packages (from tensorflow) (0.2.0)\n",
            "Requirement already satisfied: grpcio<2.0,>=1.24.3 in /usr/local/lib/python3.7/dist-packages (from tensorflow) (1.50.0)\n",
            "Requirement already satisfied: tensorflow-estimator<2.10.0,>=2.9.0rc0 in /usr/local/lib/python3.7/dist-packages (from tensorflow) (2.9.0)\n",
            "Requirement already satisfied: gast<=0.4.0,>=0.2.1 in /usr/local/lib/python3.7/dist-packages (from tensorflow) (0.4.0)\n",
            "Requirement already satisfied: absl-py>=1.0.0 in /usr/local/lib/python3.7/dist-packages (from tensorflow) (1.3.0)\n",
            "Requirement already satisfied: astunparse>=1.6.0 in /usr/local/lib/python3.7/dist-packages (from tensorflow) (1.6.3)\n",
            "Requirement already satisfied: protobuf<3.20,>=3.9.2 in /usr/local/lib/python3.7/dist-packages (from tensorflow) (3.19.6)\n",
            "Requirement already satisfied: wheel<1.0,>=0.23.0 in /usr/local/lib/python3.7/dist-packages (from astunparse>=1.6.0->tensorflow) (0.38.3)\n",
            "Requirement already satisfied: cached-property in /usr/local/lib/python3.7/dist-packages (from h5py>=2.9.0->tensorflow) (1.5.2)\n",
            "Requirement already satisfied: google-auth<3,>=1.6.3 in /usr/local/lib/python3.7/dist-packages (from tensorboard<2.10,>=2.9->tensorflow) (2.14.1)\n",
            "Requirement already satisfied: tensorboard-plugin-wit>=1.6.0 in /usr/local/lib/python3.7/dist-packages (from tensorboard<2.10,>=2.9->tensorflow) (1.8.1)\n",
            "Requirement already satisfied: werkzeug>=1.0.1 in /usr/local/lib/python3.7/dist-packages (from tensorboard<2.10,>=2.9->tensorflow) (1.0.1)\n",
            "Requirement already satisfied: requests<3,>=2.21.0 in /usr/local/lib/python3.7/dist-packages (from tensorboard<2.10,>=2.9->tensorflow) (2.23.0)\n",
            "Requirement already satisfied: tensorboard-data-server<0.7.0,>=0.6.0 in /usr/local/lib/python3.7/dist-packages (from tensorboard<2.10,>=2.9->tensorflow) (0.6.1)\n",
            "Requirement already satisfied: google-auth-oauthlib<0.5,>=0.4.1 in /usr/local/lib/python3.7/dist-packages (from tensorboard<2.10,>=2.9->tensorflow) (0.4.6)\n",
            "Requirement already satisfied: markdown>=2.6.8 in /usr/local/lib/python3.7/dist-packages (from tensorboard<2.10,>=2.9->tensorflow) (3.4.1)\n",
            "Requirement already satisfied: pyasn1-modules>=0.2.1 in /usr/local/lib/python3.7/dist-packages (from google-auth<3,>=1.6.3->tensorboard<2.10,>=2.9->tensorflow) (0.2.8)\n",
            "Requirement already satisfied: cachetools<6.0,>=2.0.0 in /usr/local/lib/python3.7/dist-packages (from google-auth<3,>=1.6.3->tensorboard<2.10,>=2.9->tensorflow) (5.2.0)\n",
            "Requirement already satisfied: rsa<5,>=3.1.4 in /usr/local/lib/python3.7/dist-packages (from google-auth<3,>=1.6.3->tensorboard<2.10,>=2.9->tensorflow) (4.9)\n",
            "Requirement already satisfied: requests-oauthlib>=0.7.0 in /usr/local/lib/python3.7/dist-packages (from google-auth-oauthlib<0.5,>=0.4.1->tensorboard<2.10,>=2.9->tensorflow) (1.3.1)\n",
            "Requirement already satisfied: importlib-metadata>=4.4 in /usr/local/lib/python3.7/dist-packages (from markdown>=2.6.8->tensorboard<2.10,>=2.9->tensorflow) (4.13.0)\n",
            "Requirement already satisfied: zipp>=0.5 in /usr/local/lib/python3.7/dist-packages (from importlib-metadata>=4.4->markdown>=2.6.8->tensorboard<2.10,>=2.9->tensorflow) (3.10.0)\n",
            "Requirement already satisfied: pyasn1<0.5.0,>=0.4.6 in /usr/local/lib/python3.7/dist-packages (from pyasn1-modules>=0.2.1->google-auth<3,>=1.6.3->tensorboard<2.10,>=2.9->tensorflow) (0.4.8)\n",
            "Requirement already satisfied: chardet<4,>=3.0.2 in /usr/local/lib/python3.7/dist-packages (from requests<3,>=2.21.0->tensorboard<2.10,>=2.9->tensorflow) (3.0.4)\n",
            "Requirement already satisfied: idna<3,>=2.5 in /usr/local/lib/python3.7/dist-packages (from requests<3,>=2.21.0->tensorboard<2.10,>=2.9->tensorflow) (2.10)\n",
            "Requirement already satisfied: urllib3!=1.25.0,!=1.25.1,<1.26,>=1.21.1 in /usr/local/lib/python3.7/dist-packages (from requests<3,>=2.21.0->tensorboard<2.10,>=2.9->tensorflow) (1.24.3)\n",
            "Requirement already satisfied: certifi>=2017.4.17 in /usr/local/lib/python3.7/dist-packages (from requests<3,>=2.21.0->tensorboard<2.10,>=2.9->tensorflow) (2022.9.24)\n",
            "Requirement already satisfied: oauthlib>=3.0.0 in /usr/local/lib/python3.7/dist-packages (from requests-oauthlib>=0.7.0->google-auth-oauthlib<0.5,>=0.4.1->tensorboard<2.10,>=2.9->tensorflow) (3.2.2)\n",
            "Requirement already satisfied: pyparsing!=3.0.5,>=2.0.2 in /usr/local/lib/python3.7/dist-packages (from packaging->tensorflow) (3.0.9)\n",
            "Looking in indexes: https://pypi.org/simple, https://us-python.pkg.dev/colab-wheels/public/simple/\n",
            "Requirement already satisfied: opencv-python in /usr/local/lib/python3.7/dist-packages (4.6.0.66)\n",
            "Requirement already satisfied: numpy>=1.14.5 in /usr/local/lib/python3.7/dist-packages (from opencv-python) (1.21.6)\n",
            "Looking in indexes: https://pypi.org/simple, https://us-python.pkg.dev/colab-wheels/public/simple/\n",
            "Requirement already satisfied: opencv-contrib-python in /usr/local/lib/python3.7/dist-packages (4.6.0.66)\n",
            "Requirement already satisfied: numpy>=1.14.5 in /usr/local/lib/python3.7/dist-packages (from opencv-contrib-python) (1.21.6)\n"
          ]
        }
      ],
      "source": [
        "!pip install tensorflow\n",
        "!pip install opencv-python\n",
        "!pip install opencv-contrib-python\n",
        "import tensorflow as tf\n",
        "import numpy as np\n",
        "from tensorflow import keras\n",
        "import os\n",
        "import cv2\n",
        "from tensorflow.keras.preprocessing.image import ImageDataGenerator\n",
        "from tensorflow.keras.preprocessing import image"
      ]
    },
    {
      "cell_type": "code",
      "execution_count": 40,
      "metadata": {
        "id": "JEu4X_jhyo1_"
      },
      "outputs": [],
      "source": [
        "TRAIN = ImageDataGenerator(rescale=1./255,\n",
        "                                 shear_range=0.2,\n",
        "                                 rotation_range=180,\n",
        "                                 zoom_range=0.2,\n",
        "                                 horizontal_flip=True)\n",
        "TRAIN = ImageDataGenerator(rescale=1/255)\n",
        "TEST = ImageDataGenerator(rescale=1/255)"
      ]
    },
    {
      "cell_type": "code",
      "execution_count": 68,
      "metadata": {
        "id": "iQrD166UyskH",
        "colab": {
          "base_uri": "https://localhost:8080/"
        },
        "outputId": "f71382b7-4285-429f-d89a-496803e5d1f2"
      },
      "outputs": [
        {
          "output_type": "stream",
          "name": "stdout",
          "text": [
            "Found 217 images belonging to 1 classes.\n"
          ]
        }
      ],
      "source": [
        "TRAIN_DATASET = TRAIN.flow_from_directory(\"/content/DATASET/TRAIN_SET\",\n",
        "                                          target_size=(128,128),\n",
        "                                          batch_size = 32,\n",
        "                                          class_mode = 'binary' )"
      ]
    },
    {
      "cell_type": "code",
      "execution_count": 70,
      "metadata": {
        "colab": {
          "base_uri": "https://localhost:8080/"
        },
        "id": "AkWehRzLzMmQ",
        "outputId": "4e7a9114-ad97-4c51-ec88-7accebf4b7bd"
      },
      "outputs": [
        {
          "output_type": "stream",
          "name": "stdout",
          "text": [
            "Found 119 images belonging to 2 classes.\n"
          ]
        }
      ],
      "source": [
        "TEST_DATASET = TEST.flow_from_directory(\"/content/DATASET/TEST_SET\",\n",
        "                                          target_size=(128,128),\n",
        "                                          batch_size = 32,\n",
        "                                          class_mode = 'binary' )"
      ]
    },
    {
      "cell_type": "code",
      "execution_count": 71,
      "metadata": {
        "colab": {
          "base_uri": "https://localhost:8080/"
        },
        "id": "cUIN4Bzgzagv",
        "outputId": "5602f9c7-b547-4970-9374-4ffc5651c39e"
      },
      "outputs": [
        {
          "output_type": "execute_result",
          "data": {
            "text/plain": [
              "{'FOREST WITH FIRE': 0, 'FOREST WITHOUT FIRE': 1}"
            ]
          },
          "metadata": {},
          "execution_count": 71
        }
      ],
      "source": [
        "TEST_DATASET.class_indices"
      ]
    },
    {
      "cell_type": "code",
      "execution_count": 72,
      "metadata": {
        "id": "ErCjF5E0zc5n"
      },
      "outputs": [],
      "source": [
        "#to define linear initialisation import sequential\n",
        "from keras.models import Sequential\n",
        "#to add layer import Dense\n",
        "from keras.layers import Dense\n",
        "#to create convolution kernel import convolution2D\n",
        "from keras.layers import Convolution2D\n",
        "#import Maxpooling layer\n",
        "from keras.layers import MaxPooling2D\n",
        "#import flatten layer\n",
        "from keras.layers import Flatten\n",
        "import warnings\n",
        "warnings.filterwarnings('ignore')"
      ]
    },
    {
      "cell_type": "code",
      "execution_count": 73,
      "metadata": {
        "id": "bzoMv95zGD1M"
      },
      "outputs": [],
      "source": [
        "model = keras.Sequential()\n",
        "model.add(Convolution2D(32,(3,3),input_shape=(128,128,3),activation='relu'))\n",
        "model.add(MaxPooling2D(pool_size=(2,2)))\n",
        "model.add(Convolution2D(32,(3,3),activation='relu'))\n",
        "model.add(MaxPooling2D(pool_size=(2,2)))\n",
        "model.add(Convolution2D(32,(3,3),activation='relu'))\n",
        "model.add(MaxPooling2D(pool_size=(2,2)))\n",
        "model.add(Convolution2D(32,(3,3),activation='relu'))\n",
        "model.add(MaxPooling2D(pool_size=(2,2)))\n",
        "model.add(Flatten())"
      ]
    },
    {
      "cell_type": "code",
      "execution_count": 74,
      "metadata": {
        "id": "u39-gH1YHdeF"
      },
      "outputs": [],
      "source": [
        "model.add(Dense(150,activation='relu'))\n",
        "\n",
        "model.add(Dense(1,activation='sigmoid'))"
      ]
    },
    {
      "cell_type": "code",
      "execution_count": 124,
      "metadata": {
        "id": "wbI8SAPwHgE7"
      },
      "outputs": [],
      "source": [
        "model.compile(loss = 'binary_crossentropy',\n",
        "              optimizer = \"adam\",\n",
        "              metrics = [\"accuracy\"])"
      ]
    },
    {
      "cell_type": "code",
      "execution_count": 117,
      "metadata": {
        "id": "PPuHQ4olHicb"
      },
      "outputs": [],
      "source": [
        "train_datagen=ImageDataGenerator(rescale=1./255,shear_range=0.2,rotation_range=180,zoom_range=0.2,horizontal_flip=True)\n",
        "\n",
        "test_datagen=ImageDataGenerator(rescale=1./255)"
      ]
    },
    {
      "cell_type": "code",
      "source": [
        "x_train=train_datagen.flow_from_directory('/content/DATASET/TEST_SET',target_size=(128,128),batch_size=32,class_mode='binary') "
      ],
      "metadata": {
        "colab": {
          "base_uri": "https://localhost:8080/"
        },
        "id": "XRnpkGaXNgDi",
        "outputId": "9c300a64-bd4e-4031-eec0-c16949e012ef"
      },
      "execution_count": 118,
      "outputs": [
        {
          "output_type": "stream",
          "name": "stdout",
          "text": [
            "Found 119 images belonging to 2 classes.\n"
          ]
        }
      ]
    },
    {
      "cell_type": "code",
      "source": [
        "x_test=test_datagen.flow_from_directory('/content/DATASET/TEST_SET',target_size=(128,128),batch_size=32,class_mode='binary')"
      ],
      "metadata": {
        "colab": {
          "base_uri": "https://localhost:8080/"
        },
        "id": "B6CLx2naNzhi",
        "outputId": "8d1f3285-f51e-486d-b053-7578b2cd5a3e"
      },
      "execution_count": 119,
      "outputs": [
        {
          "output_type": "stream",
          "name": "stdout",
          "text": [
            "Found 119 images belonging to 2 classes.\n"
          ]
        }
      ]
    },
    {
      "cell_type": "code",
      "source": [
        "model.fit_generator(x_train,steps_per_epoch=14,epochs=10,validation_data=x_test,validation_steps=4) "
      ],
      "metadata": {
        "colab": {
          "base_uri": "https://localhost:8080/"
        },
        "id": "mCkIahPdORJ4",
        "outputId": "2e802887-cfa0-48ce-ef36-f3d20740ef4f"
      },
      "execution_count": 121,
      "outputs": [
        {
          "output_type": "stream",
          "name": "stdout",
          "text": [
            "Epoch 1/10\n",
            " 4/14 [=======>......................] - ETA: 16s - loss: 9.2231 - accuracy: 0.4118 "
          ]
        },
        {
          "output_type": "stream",
          "name": "stderr",
          "text": [
            "WARNING:tensorflow:Your input ran out of data; interrupting training. Make sure that your dataset or generator can generate at least `steps_per_epoch * epochs` batches (in this case, 140 batches). You may need to use the repeat() function when building your dataset.\n"
          ]
        },
        {
          "output_type": "stream",
          "name": "stdout",
          "text": [
            "\b\b\b\b\b\b\b\b\b\b\b\b\b\b\b\b\b\b\b\b\b\b\b\b\b\b\b\b\b\b\b\b\b\b\b\b\b\b\b\b\b\b\b\b\b\b\b\b\b\b\b\b\b\b\b\b\b\b\b\b\b\b\b\b\b\b\b\b\b\b\b\b\b\b\b\b\b\b\b\b\b\b\b\r14/14 [==============================] - 13s 830ms/step - loss: 9.2231 - accuracy: 0.4118 - val_loss: 2.5578 - val_accuracy: 0.4118\n"
          ]
        },
        {
          "output_type": "execute_result",
          "data": {
            "text/plain": [
              "<keras.callbacks.History at 0x7ff669a05710>"
            ]
          },
          "metadata": {},
          "execution_count": 121
        }
      ]
    },
    {
      "cell_type": "code",
      "execution_count": 122,
      "metadata": {
        "colab": {
          "base_uri": "https://localhost:8080/"
        },
        "id": "zPq85bbEIwRM",
        "outputId": "5c45fac6-230a-4d82-f035-220d1236011d"
      },
      "outputs": [
        {
          "output_type": "stream",
          "name": "stdout",
          "text": [
            "4/4 [==============================] - 5s 1s/step\n"
          ]
        }
      ],
      "source": [
        "predictions = model.predict(TEST_DATASET)\n",
        "predictions = np.round(predictions)"
      ]
    },
    {
      "cell_type": "code",
      "execution_count": 80,
      "metadata": {
        "colab": {
          "base_uri": "https://localhost:8080/"
        },
        "id": "MaG8Sm8DI0u1",
        "outputId": "98f94072-ae36-440b-ec38-a86dff5a9d51"
      },
      "outputs": [
        {
          "output_type": "execute_result",
          "data": {
            "text/plain": [
              "array([[0.],\n",
              "       [0.],\n",
              "       [0.],\n",
              "       [0.],\n",
              "       [0.],\n",
              "       [0.],\n",
              "       [0.],\n",
              "       [0.],\n",
              "       [0.],\n",
              "       [0.],\n",
              "       [0.],\n",
              "       [0.],\n",
              "       [0.],\n",
              "       [0.],\n",
              "       [0.],\n",
              "       [0.],\n",
              "       [0.],\n",
              "       [0.],\n",
              "       [0.],\n",
              "       [0.],\n",
              "       [0.],\n",
              "       [0.],\n",
              "       [0.],\n",
              "       [0.],\n",
              "       [0.],\n",
              "       [0.],\n",
              "       [0.],\n",
              "       [0.],\n",
              "       [0.],\n",
              "       [0.],\n",
              "       [0.],\n",
              "       [0.],\n",
              "       [0.],\n",
              "       [0.],\n",
              "       [0.],\n",
              "       [0.],\n",
              "       [0.],\n",
              "       [0.],\n",
              "       [0.],\n",
              "       [0.],\n",
              "       [0.],\n",
              "       [0.],\n",
              "       [0.],\n",
              "       [0.],\n",
              "       [0.],\n",
              "       [0.],\n",
              "       [0.],\n",
              "       [0.],\n",
              "       [0.],\n",
              "       [0.],\n",
              "       [0.],\n",
              "       [0.],\n",
              "       [0.],\n",
              "       [0.],\n",
              "       [0.],\n",
              "       [0.],\n",
              "       [0.],\n",
              "       [0.],\n",
              "       [0.],\n",
              "       [0.],\n",
              "       [0.],\n",
              "       [0.],\n",
              "       [0.],\n",
              "       [0.],\n",
              "       [0.],\n",
              "       [0.],\n",
              "       [0.],\n",
              "       [0.],\n",
              "       [0.],\n",
              "       [0.],\n",
              "       [0.],\n",
              "       [0.],\n",
              "       [0.],\n",
              "       [0.],\n",
              "       [0.],\n",
              "       [0.],\n",
              "       [0.],\n",
              "       [0.],\n",
              "       [0.],\n",
              "       [0.],\n",
              "       [0.],\n",
              "       [0.],\n",
              "       [0.],\n",
              "       [0.],\n",
              "       [0.],\n",
              "       [0.],\n",
              "       [0.],\n",
              "       [0.],\n",
              "       [0.],\n",
              "       [0.],\n",
              "       [0.],\n",
              "       [0.],\n",
              "       [0.],\n",
              "       [0.],\n",
              "       [0.],\n",
              "       [0.],\n",
              "       [0.],\n",
              "       [0.],\n",
              "       [0.],\n",
              "       [0.],\n",
              "       [0.],\n",
              "       [0.],\n",
              "       [0.],\n",
              "       [0.],\n",
              "       [0.],\n",
              "       [0.],\n",
              "       [0.],\n",
              "       [0.],\n",
              "       [0.],\n",
              "       [0.],\n",
              "       [0.],\n",
              "       [0.],\n",
              "       [0.],\n",
              "       [0.],\n",
              "       [0.],\n",
              "       [0.],\n",
              "       [0.],\n",
              "       [0.],\n",
              "       [0.]], dtype=float32)"
            ]
          },
          "metadata": {},
          "execution_count": 80
        }
      ],
      "source": [
        "predictions"
      ]
    },
    {
      "cell_type": "code",
      "execution_count": 81,
      "metadata": {
        "colab": {
          "base_uri": "https://localhost:8080/"
        },
        "id": "s5133y2DI5Zl",
        "outputId": "6398a359-5e99-4831-c03c-3bf745ddbf0d"
      },
      "outputs": [
        {
          "output_type": "stream",
          "name": "stdout",
          "text": [
            "119\n"
          ]
        }
      ],
      "source": [
        "print(len(predictions))"
      ]
    },
    {
      "cell_type": "code",
      "execution_count": 82,
      "metadata": {
        "id": "AxGwUbwtI7Uw"
      },
      "outputs": [],
      "source": [
        "model.save(\"forest2.h5\")"
      ]
    },
    {
      "cell_type": "code",
      "execution_count": 84,
      "metadata": {
        "id": "xISXR-T5I80M"
      },
      "outputs": [],
      "source": [
        "#import load_model from keras.model\n",
        "from keras.models import load_model\n",
        "#import image class from keras\n",
        "import tensorflow as tf\n",
        "from tensorflow.keras.preprocessing import image\n",
        "#import numpy\n",
        "import numpy as np\n",
        "#import cv2\n",
        "import cv2"
      ]
    },
    {
      "cell_type": "code",
      "execution_count": 85,
      "metadata": {
        "id": "be3HmDzGI-hM"
      },
      "outputs": [],
      "source": [
        "model = load_model(\"forest2.h5\")"
      ]
    },
    {
      "cell_type": "code",
      "execution_count": 86,
      "metadata": {
        "id": "aOVOpE_1JAA_"
      },
      "outputs": [],
      "source": [
        "def predictImage(filename):\n",
        "  img1 = image.load_img(filename,target_size=(128,128))\n",
        "  Y = image.img_to_array(img1)\n",
        "  X = np.expand_dims(Y,axis=0)\n",
        "  val = model.predict(X)\n",
        "  print(val)\n",
        "  if val == 1:\n",
        "    print(\" fire\")\n",
        "  elif val == 0:\n",
        "      print(\"no fire\")"
      ]
    },
    {
      "cell_type": "code",
      "execution_count": 96,
      "metadata": {
        "colab": {
          "base_uri": "https://localhost:8080/"
        },
        "id": "hb57l47SJCFa",
        "outputId": "d79ea6d0-4240-4f3f-c856-493faa86e4f6"
      },
      "outputs": [
        {
          "output_type": "stream",
          "name": "stdout",
          "text": [
            "1/1 [==============================] - 0s 100ms/step\n",
            "[[0.]]\n",
            "no fire\n"
          ]
        }
      ],
      "source": [
        "predictImage(\"/content/DATASET/TRAIN_SET/forest/folder 1/with_fire (17).jpg\")"
      ]
    },
    {
      "cell_type": "code",
      "execution_count": 97,
      "metadata": {
        "colab": {
          "base_uri": "https://localhost:8080/"
        },
        "id": "XgpNdXEBQgbg",
        "outputId": "b314e64e-6474-492f-8588-48a80b617015"
      },
      "outputs": [
        {
          "output_type": "stream",
          "name": "stdout",
          "text": [
            "Looking in indexes: https://pypi.org/simple, https://us-python.pkg.dev/colab-wheels/public/simple/\n",
            "Collecting twilio\n",
            "  Downloading twilio-7.15.2-py2.py3-none-any.whl (1.4 MB)\n",
            "\u001b[K     |████████████████████████████████| 1.4 MB 7.7 MB/s \n",
            "\u001b[?25hRequirement already satisfied: pytz in /usr/local/lib/python3.7/dist-packages (from twilio) (2022.6)\n",
            "Collecting PyJWT<3.0.0,>=2.0.0\n",
            "  Downloading PyJWT-2.6.0-py3-none-any.whl (20 kB)\n",
            "Requirement already satisfied: requests>=2.0.0 in /usr/local/lib/python3.7/dist-packages (from twilio) (2.23.0)\n",
            "Requirement already satisfied: certifi>=2017.4.17 in /usr/local/lib/python3.7/dist-packages (from requests>=2.0.0->twilio) (2022.9.24)\n",
            "Requirement already satisfied: urllib3!=1.25.0,!=1.25.1,<1.26,>=1.21.1 in /usr/local/lib/python3.7/dist-packages (from requests>=2.0.0->twilio) (1.24.3)\n",
            "Requirement already satisfied: chardet<4,>=3.0.2 in /usr/local/lib/python3.7/dist-packages (from requests>=2.0.0->twilio) (3.0.4)\n",
            "Requirement already satisfied: idna<3,>=2.5 in /usr/local/lib/python3.7/dist-packages (from requests>=2.0.0->twilio) (2.10)\n",
            "Installing collected packages: PyJWT, twilio\n",
            "Successfully installed PyJWT-2.6.0 twilio-7.15.2\n"
          ]
        }
      ],
      "source": [
        "pip install twilio"
      ]
    },
    {
      "cell_type": "code",
      "execution_count": 98,
      "metadata": {
        "colab": {
          "base_uri": "https://localhost:8080/"
        },
        "id": "0XiWtHuMQl84",
        "outputId": "e5642941-e854-4643-d647-917d6bde3fa9"
      },
      "outputs": [
        {
          "output_type": "stream",
          "name": "stdout",
          "text": [
            "Looking in indexes: https://pypi.org/simple, https://us-python.pkg.dev/colab-wheels/public/simple/\n",
            "Collecting playsound\n",
            "  Downloading playsound-1.3.0.tar.gz (7.7 kB)\n",
            "Building wheels for collected packages: playsound\n",
            "  Building wheel for playsound (setup.py) ... \u001b[?25l\u001b[?25hdone\n",
            "  Created wheel for playsound: filename=playsound-1.3.0-py3-none-any.whl size=7035 sha256=00cb057b2cc50128cfea4fe9c073a57632968281125fcd64bb9fd435e13bcd41\n",
            "  Stored in directory: /root/.cache/pip/wheels/ba/f8/bb/ea57c0146b664dca3a0ada4199b0ecb5f9dfcb7b7e22b65ba2\n",
            "Successfully built playsound\n",
            "Installing collected packages: playsound\n",
            "Successfully installed playsound-1.3.0\n"
          ]
        }
      ],
      "source": [
        "pip install playsound\n"
      ]
    },
    {
      "cell_type": "code",
      "execution_count": 99,
      "metadata": {
        "colab": {
          "base_uri": "https://localhost:8080/"
        },
        "id": "BK7PQU8qQo9p",
        "outputId": "54436793-7013-43d3-e510-0c64021585ad"
      },
      "outputs": [
        {
          "output_type": "stream",
          "name": "stderr",
          "text": [
            "WARNING:playsound:playsound is relying on another python subprocess. Please use `pip install pygobject` if you want playsound to run more efficiently.\n"
          ]
        }
      ],
      "source": [
        "#import opencv librariy\n",
        "import cv2\n",
        "#import numpy\n",
        "import numpy as np\n",
        "#import image function from keras\n",
        "from keras.preprocessing import image\n",
        "#import load_model from keras\n",
        "from keras.models import load_model\n",
        "#import client from twilio API\n",
        "from twilio.rest import Client\n",
        "#imort playsound package\n",
        "from playsound import playsound"
      ]
    },
    {
      "cell_type": "code",
      "execution_count": 100,
      "metadata": {
        "colab": {
          "base_uri": "https://localhost:8080/"
        },
        "id": "9tEsHHr-GFvN",
        "outputId": "c0363ea2-6b46-4756-b373-c6ac36af3fc6"
      },
      "outputs": [
        {
          "output_type": "stream",
          "name": "stdout",
          "text": [
            "Looking in indexes: https://pypi.org/simple, https://us-python.pkg.dev/colab-wheels/public/simple/\n",
            "Requirement already satisfied: pygobject in /usr/lib/python3/dist-packages (3.26.1)\n"
          ]
        }
      ],
      "source": [
        "pip install pygobject"
      ]
    },
    {
      "cell_type": "code",
      "execution_count": 101,
      "metadata": {
        "id": "4gb-wDXNxQ2Z"
      },
      "outputs": [],
      "source": [
        "model = load_model(r'forest2.h5')\n",
        "video = cv2.VideoCapture('/content/drive/MyDrive/Forest_fire.mp4')\n",
        "name = ['forest','with forest']"
      ]
    },
    {
      "cell_type": "code",
      "execution_count": 102,
      "metadata": {
        "colab": {
          "base_uri": "https://localhost:8080/"
        },
        "id": "dedukmLkyQqC",
        "outputId": "e8d6e919-1de9-48b1-98e4-1cb95804bb5f"
      },
      "outputs": [
        {
          "output_type": "execute_result",
          "data": {
            "text/plain": [
              "<Twilio.Api.V2010.MessageInstance account_sid=AC884624fb567ef36a607c92fc503e1ec1 sid=SMe1c891e59e52faf4ef0dbe7a6a9f276d>"
            ]
          },
          "metadata": {},
          "execution_count": 102
        }
      ],
      "source": [
        "from twilio.rest import Client\n",
        "\n",
        "account_sid = 'AC884624fb567ef36a607c92fc503e1ec1'\n",
        "auth_token = 'cd8a677be96596ffe67ef749c07486a0'\n",
        "client = Client(account_sid, auth_token)\n",
        "client.messages.create(\n",
        "    to='+91 9965265228',\n",
        "    from_=\"+18563865770\",\n",
        "    body=\"ALERT!\"\n",
        ")\n"
      ]
    }
  ],
  "metadata": {
    "colab": {
      "collapsed_sections": [],
      "provenance": []
    },
    "kernelspec": {
      "display_name": "Python 3",
      "name": "python3"
    },
    "language_info": {
      "name": "python"
    }
  },
  "nbformat": 4,
  "nbformat_minor": 0
}